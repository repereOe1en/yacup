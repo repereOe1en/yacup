{
 "cells": [
  {
   "cell_type": "code",
   "execution_count": 44,
   "metadata": {},
   "outputs": [],
   "source": [
    "import pandas as pd\n",
    "import numpy as np\n",
    "from pathlib import Path\n",
    "from tqdm import tqdm"
   ]
  },
  {
   "cell_type": "code",
   "execution_count": 39,
   "metadata": {},
   "outputs": [
    {
     "data": {
      "text/html": [
       "<div>\n",
       "<style scoped>\n",
       "    .dataframe tbody tr th:only-of-type {\n",
       "        vertical-align: middle;\n",
       "    }\n",
       "\n",
       "    .dataframe tbody tr th {\n",
       "        vertical-align: top;\n",
       "    }\n",
       "\n",
       "    .dataframe thead th {\n",
       "        text-align: right;\n",
       "    }\n",
       "</style>\n",
       "<table border=\"1\" class=\"dataframe\">\n",
       "  <thead>\n",
       "    <tr style=\"text-align: right;\">\n",
       "      <th></th>\n",
       "      <th>clique</th>\n",
       "      <th>versions</th>\n",
       "    </tr>\n",
       "  </thead>\n",
       "  <tbody>\n",
       "    <tr>\n",
       "      <th>0</th>\n",
       "      <td>39475</td>\n",
       "      <td>[343223, 361210, 114472, 134744, 271362, 30747...</td>\n",
       "    </tr>\n",
       "    <tr>\n",
       "      <th>1</th>\n",
       "      <td>20077</td>\n",
       "      <td>[343224, 350590, 170706, 266043, 314556, 30764...</td>\n",
       "    </tr>\n",
       "    <tr>\n",
       "      <th>2</th>\n",
       "      <td>22290</td>\n",
       "      <td>[343225, 343986, 344624, 345116, 345312, 33796...</td>\n",
       "    </tr>\n",
       "    <tr>\n",
       "      <th>3</th>\n",
       "      <td>17098</td>\n",
       "      <td>[343226, 220430]</td>\n",
       "    </tr>\n",
       "    <tr>\n",
       "      <th>4</th>\n",
       "      <td>26349</td>\n",
       "      <td>[343227, 286579]</td>\n",
       "    </tr>\n",
       "    <tr>\n",
       "      <th>...</th>\n",
       "      <td>...</td>\n",
       "      <td>...</td>\n",
       "    </tr>\n",
       "    <tr>\n",
       "      <th>41611</th>\n",
       "      <td>16898</td>\n",
       "      <td>[70624, 76088]</td>\n",
       "    </tr>\n",
       "    <tr>\n",
       "      <th>41612</th>\n",
       "      <td>31616</td>\n",
       "      <td>[70632, 76025]</td>\n",
       "    </tr>\n",
       "    <tr>\n",
       "      <th>41613</th>\n",
       "      <td>40137</td>\n",
       "      <td>[71481, 73797]</td>\n",
       "    </tr>\n",
       "    <tr>\n",
       "      <th>41614</th>\n",
       "      <td>21450</td>\n",
       "      <td>[71855, 74678]</td>\n",
       "    </tr>\n",
       "    <tr>\n",
       "      <th>41615</th>\n",
       "      <td>27972</td>\n",
       "      <td>[72629, 75917]</td>\n",
       "    </tr>\n",
       "  </tbody>\n",
       "</table>\n",
       "<p>41616 rows × 2 columns</p>\n",
       "</div>"
      ],
      "text/plain": [
       "       clique                                           versions\n",
       "0       39475  [343223, 361210, 114472, 134744, 271362, 30747...\n",
       "1       20077  [343224, 350590, 170706, 266043, 314556, 30764...\n",
       "2       22290  [343225, 343986, 344624, 345116, 345312, 33796...\n",
       "3       17098                                   [343226, 220430]\n",
       "4       26349                                   [343227, 286579]\n",
       "...       ...                                                ...\n",
       "41611   16898                                     [70624, 76088]\n",
       "41612   31616                                     [70632, 76025]\n",
       "41613   40137                                     [71481, 73797]\n",
       "41614   21450                                     [71855, 74678]\n",
       "41615   27972                                     [72629, 75917]\n",
       "\n",
       "[41616 rows x 2 columns]"
      ]
     },
     "execution_count": 39,
     "metadata": {},
     "output_type": "execute_result"
    }
   ],
   "source": [
    "cliques_df = pd.read_csv(\"cliques2versions.tsv\",sep = '\\t')\n",
    "test_ids = np.load(\"test_ids.npy\")\n",
    "train_cliques = np.load(\"train_cliques.npy\")\n",
    "val_cliques = np.load(\"val_cliques.npy\")\n",
    "cliques_df"
   ]
  },
  {
   "cell_type": "code",
   "execution_count": 38,
   "metadata": {},
   "outputs": [
    {
     "name": "stdout",
     "output_type": "stream",
     "text": [
      "(55170,)\n",
      "(39535,)\n",
      "(2081,)\n"
     ]
    }
   ],
   "source": [
    "print(test_ids.shape)\n",
    "print(train_cliques.shape)\n",
    "print(val_cliques.shape)"
   ]
  },
  {
   "cell_type": "code",
   "execution_count": 41,
   "metadata": {},
   "outputs": [],
   "source": [
    "train_df = pd.DataFrame(columns = [\"clique\",\"versions\"])\n",
    "val_df = pd.DataFrame(columns = [\"clique\",\"versions\"])\n",
    "for i in range(len(cliques_df)):\n",
    "    if cliques_df.iloc[i,0] in train_cliques:\n",
    "        train_df.loc[len(train_df)] = cliques_df.iloc[i,:]\n",
    "    else:\n",
    "        val_df.loc[len(val_df)] = cliques_df.iloc[i,:]"
   ]
  },
  {
   "cell_type": "code",
   "execution_count": 57,
   "metadata": {},
   "outputs": [],
   "source": [
    "def create_data(df,root):\n",
    "    tmp_df = pd.DataFrame(columns = [\"starts\"])\n",
    "    tmp_df.loc[0,0] = 0\n",
    "    file_names = []\n",
    "\n",
    "    for i in tqdm(range(len(df))):\n",
    "        lst = eval(df.iloc[i,1])\n",
    "        file_names += lst\n",
    "        if i != len(df):\n",
    "            tmp_df.loc[i+1,0] = tmp_df.loc[i,0] + len(lst)\n",
    "\n",
    "    x = np.zeros((len(file_names),84,50))\n",
    "\n",
    "    for i in tqdm(range(len(file_names))):\n",
    "        name = file_names[i]\n",
    "        x[i] = np.load(Path(root) / str(name%1000//100) / str(name%100//10) / str(name%10) / (str(name) + \".npy\"))\n",
    "    \n",
    "    return tmp_df, x.astype(\"float32\")"
   ]
  },
  {
   "cell_type": "code",
   "execution_count": 58,
   "metadata": {},
   "outputs": [
    {
     "name": "stderr",
     "output_type": "stream",
     "text": [
      "100%|██████████| 39535/39535 [00:39<00:00, 989.67it/s] \n",
      "100%|██████████| 299054/299054 [05:11<00:00, 961.36it/s] \n",
      "100%|██████████| 2081/2081 [00:00<00:00, 3712.27it/s]\n",
      "100%|██████████| 15885/15885 [00:18<00:00, 857.18it/s] \n"
     ]
    }
   ],
   "source": [
    "train_starts, train_data = create_data(train_df,\"train\")\n",
    "val_starts, val_data = create_data(val_df,\"train\")"
   ]
  },
  {
   "cell_type": "code",
   "execution_count": 59,
   "metadata": {},
   "outputs": [],
   "source": [
    "train_starts.to_csv(\"train_starts.csv\")\n",
    "np.save(\"train_data.npy\",train_data)\n",
    "val_starts.to_csv(\"val_starts.csv\")\n",
    "np.save(\"val_data.npy\",val_data)"
   ]
  },
  {
   "cell_type": "code",
   "execution_count": 60,
   "metadata": {},
   "outputs": [
    {
     "name": "stderr",
     "output_type": "stream",
     "text": [
      "100%|██████████| 55170/55170 [00:33<00:00, 1637.67it/s]\n"
     ]
    }
   ],
   "source": [
    "test_data = np.zeros((len(test_ids),84,50))\n",
    "\n",
    "for i in tqdm(range(len(test_ids))):\n",
    "    name = test_ids[i]\n",
    "    test_data[i] = np.load(Path(\"test\") / str(name%1000//100) / str(name%100//10) / str(name%10) / (str(name) + \".npy\"))\n",
    "\n",
    "test_data = test_data.astype(\"float32\")"
   ]
  },
  {
   "cell_type": "code",
   "execution_count": 61,
   "metadata": {},
   "outputs": [],
   "source": [
    "np.save(\"test_data.npy\",test_data)"
   ]
  }
 ],
 "metadata": {
  "kernelspec": {
   "display_name": "Python 3",
   "language": "python",
   "name": "python3"
  },
  "language_info": {
   "codemirror_mode": {
    "name": "ipython",
    "version": 3
   },
   "file_extension": ".py",
   "mimetype": "text/x-python",
   "name": "python",
   "nbconvert_exporter": "python",
   "pygments_lexer": "ipython3",
   "version": "3.12.4"
  }
 },
 "nbformat": 4,
 "nbformat_minor": 2
}
